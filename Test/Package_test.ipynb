{
 "cells": [
  {
   "cell_type": "code",
   "execution_count": 1,
   "metadata": {},
   "outputs": [
    {
     "name": "stdout",
     "output_type": "stream",
     "text": [
      "Collecting simplesumproduct==0.0.2Note: you may need to restart the kernel to use updated packages.\n"
     ]
    },
    {
     "name": "stderr",
     "output_type": "stream",
     "text": [
      "\n",
      "[notice] A new release of pip is available: 24.0 -> 24.1.1\n",
      "[notice] To update, run: python.exe -m pip install --upgrade pip\n"
     ]
    },
    {
     "name": "stdout",
     "output_type": "stream",
     "text": [
      "\n",
      "  Downloading simplesumproduct-0.0.2-py3-none-any.whl.metadata (798 bytes)\n",
      "Requirement already satisfied: pandas in c:\\users\\fscielzo\\appdata\\local\\programs\\python\\python312\\lib\\site-packages (from simplesumproduct==0.0.2) (2.1.1)\n",
      "Requirement already satisfied: numpy in c:\\users\\fscielzo\\appdata\\local\\programs\\python\\python312\\lib\\site-packages (from simplesumproduct==0.0.2) (1.26.1)\n",
      "Requirement already satisfied: polars in c:\\users\\fscielzo\\appdata\\local\\programs\\python\\python312\\lib\\site-packages (from simplesumproduct==0.0.2) (0.20.0)\n",
      "Requirement already satisfied: scipy in c:\\users\\fscielzo\\appdata\\local\\programs\\python\\python312\\lib\\site-packages (from simplesumproduct==0.0.2) (1.11.3)\n",
      "Requirement already satisfied: seaborn in c:\\users\\fscielzo\\appdata\\local\\programs\\python\\python312\\lib\\site-packages (from simplesumproduct==0.0.2) (0.13.0)\n",
      "Requirement already satisfied: matplotlib in c:\\users\\fscielzo\\appdata\\local\\programs\\python\\python312\\lib\\site-packages (from simplesumproduct==0.0.2) (3.8.0)\n",
      "Requirement already satisfied: plotly in c:\\users\\fscielzo\\appdata\\local\\programs\\python\\python312\\lib\\site-packages (from simplesumproduct==0.0.2) (5.18.0)\n",
      "Requirement already satisfied: contourpy>=1.0.1 in c:\\users\\fscielzo\\appdata\\local\\programs\\python\\python312\\lib\\site-packages (from matplotlib->simplesumproduct==0.0.2) (1.2.1)\n",
      "Requirement already satisfied: cycler>=0.10 in c:\\users\\fscielzo\\appdata\\local\\programs\\python\\python312\\lib\\site-packages (from matplotlib->simplesumproduct==0.0.2) (0.12.1)\n",
      "Requirement already satisfied: fonttools>=4.22.0 in c:\\users\\fscielzo\\appdata\\local\\programs\\python\\python312\\lib\\site-packages (from matplotlib->simplesumproduct==0.0.2) (4.43.1)\n",
      "Requirement already satisfied: kiwisolver>=1.0.1 in c:\\users\\fscielzo\\appdata\\local\\programs\\python\\python312\\lib\\site-packages (from matplotlib->simplesumproduct==0.0.2) (1.4.5)\n",
      "Requirement already satisfied: packaging>=20.0 in c:\\users\\fscielzo\\appdata\\roaming\\python\\python312\\site-packages (from matplotlib->simplesumproduct==0.0.2) (23.2)\n",
      "Requirement already satisfied: pillow>=6.2.0 in c:\\users\\fscielzo\\appdata\\local\\programs\\python\\python312\\lib\\site-packages (from matplotlib->simplesumproduct==0.0.2) (10.0.1)\n",
      "Requirement already satisfied: pyparsing>=2.3.1 in c:\\users\\fscielzo\\appdata\\local\\programs\\python\\python312\\lib\\site-packages (from matplotlib->simplesumproduct==0.0.2) (3.1.1)\n",
      "Requirement already satisfied: python-dateutil>=2.7 in c:\\users\\fscielzo\\appdata\\roaming\\python\\python312\\site-packages (from matplotlib->simplesumproduct==0.0.2) (2.8.2)\n",
      "Requirement already satisfied: pytz>=2020.1 in c:\\users\\fscielzo\\appdata\\local\\programs\\python\\python312\\lib\\site-packages (from pandas->simplesumproduct==0.0.2) (2023.3.post1)\n",
      "Requirement already satisfied: tzdata>=2022.1 in c:\\users\\fscielzo\\appdata\\local\\programs\\python\\python312\\lib\\site-packages (from pandas->simplesumproduct==0.0.2) (2023.3)\n",
      "Requirement already satisfied: tenacity>=6.2.0 in c:\\users\\fscielzo\\appdata\\local\\programs\\python\\python312\\lib\\site-packages (from plotly->simplesumproduct==0.0.2) (8.2.3)\n",
      "Requirement already satisfied: six>=1.5 in c:\\users\\fscielzo\\appdata\\roaming\\python\\python312\\site-packages (from python-dateutil>=2.7->matplotlib->simplesumproduct==0.0.2) (1.16.0)\n",
      "Downloading simplesumproduct-0.0.2-py3-none-any.whl (3.0 kB)\n",
      "Installing collected packages: simplesumproduct\n",
      "  Attempting uninstall: simplesumproduct\n",
      "    Found existing installation: simplesumproduct 0.0.1\n",
      "    Uninstalling simplesumproduct-0.0.1:\n",
      "      Successfully uninstalled simplesumproduct-0.0.1\n",
      "Successfully installed simplesumproduct-0.0.2\n"
     ]
    }
   ],
   "source": [
    "pip install simplesumproduct==0.0.2"
   ]
  },
  {
   "cell_type": "code",
   "execution_count": 2,
   "metadata": {},
   "outputs": [
    {
     "name": "stdout",
     "output_type": "stream",
     "text": [
      "Name: simplesumproduct\n",
      "Version: 0.0.2\n",
      "Summary: Stupid package for a tutorial on how to create a Python package.\n",
      "Home-page: https://github.com/FabioScielzoOrtiz/my_package_folder\n",
      "Author: Fabio Scielzo Ortiz\n",
      "Author-email: fabioscielzo98@gmail.com\n",
      "License: \n",
      "Location: c:\\Users\\fscielzo\\AppData\\Local\\Programs\\Python\\Python312\\Lib\\site-packages\n",
      "Requires: matplotlib, numpy, pandas, plotly, polars, scipy, seaborn\n",
      "Required-by: \n",
      "Note: you may need to restart the kernel to use updated packages.\n"
     ]
    }
   ],
   "source": [
    "pip show simplesumproduct"
   ]
  },
  {
   "cell_type": "code",
   "execution_count": 3,
   "metadata": {},
   "outputs": [],
   "source": [
    "from simplesumproduct.sumtool import my_sum, special_sum\n",
    "\n",
    "from simplesumproduct.producttool import my_product, my_special_product"
   ]
  },
  {
   "cell_type": "code",
   "execution_count": 4,
   "metadata": {},
   "outputs": [
    {
     "data": {
      "text/plain": [
       "13"
      ]
     },
     "execution_count": 4,
     "metadata": {},
     "output_type": "execute_result"
    }
   ],
   "source": [
    "my_sum(x=3, y=10)"
   ]
  },
  {
   "cell_type": "code",
   "execution_count": 5,
   "metadata": {},
   "outputs": [
    {
     "data": {
      "text/plain": [
       "1.3"
      ]
     },
     "execution_count": 5,
     "metadata": {},
     "output_type": "execute_result"
    }
   ],
   "source": [
    "special_sum(x=3, y=10)"
   ]
  },
  {
   "cell_type": "code",
   "execution_count": 6,
   "metadata": {},
   "outputs": [
    {
     "data": {
      "text/plain": [
       "30"
      ]
     },
     "execution_count": 6,
     "metadata": {},
     "output_type": "execute_result"
    }
   ],
   "source": [
    "my_product(x=3, y=10)"
   ]
  },
  {
   "cell_type": "code",
   "execution_count": 7,
   "metadata": {},
   "outputs": [
    {
     "data": {
      "text/plain": [
       "0.3"
      ]
     },
     "execution_count": 7,
     "metadata": {},
     "output_type": "execute_result"
    }
   ],
   "source": [
    "my_special_product(x=3, y=10)"
   ]
  }
 ],
 "metadata": {
  "kernelspec": {
   "display_name": "Python 3",
   "language": "python",
   "name": "python3"
  },
  "language_info": {
   "codemirror_mode": {
    "name": "ipython",
    "version": 3
   },
   "file_extension": ".py",
   "mimetype": "text/x-python",
   "name": "python",
   "nbconvert_exporter": "python",
   "pygments_lexer": "ipython3",
   "version": "3.12.0"
  }
 },
 "nbformat": 4,
 "nbformat_minor": 2
}
